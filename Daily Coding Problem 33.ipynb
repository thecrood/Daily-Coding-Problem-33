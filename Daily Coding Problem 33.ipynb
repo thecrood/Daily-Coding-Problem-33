{
 "cells": [
  {
   "cell_type": "markdown",
   "id": "2ce5fec3",
   "metadata": {},
   "source": [
    "# Daily Coding Problem 33"
   ]
  },
  {
   "cell_type": "raw",
   "id": "f39f5515",
   "metadata": {},
   "source": [
    "This problem was asked by Microsoft.\n",
    "\n",
    "Compute the running median of a sequence of numbers. That is, given a stream of numbers, print out the median of the list so far on each new element.\n",
    "\n",
    "Recall that the median of an even-numbered list is the average of the two middle numbers.\n",
    "\n",
    "For example, given the sequence [2, 1, 5, 7, 2, 0, 5], your algorithm should print out:\n",
    "\n",
    "2\n",
    "1.5\n",
    "2\n",
    "3.5\n",
    "2\n",
    "2\n",
    "2"
   ]
  },
  {
   "cell_type": "markdown",
   "id": "4e26bcd4",
   "metadata": {},
   "source": [
    "# Solution\n",
    "\n",
    "For this problem, the trick is to use two heaps: a min-heap and a max-heap. We keep all elements smaller than the median in the max-heap and all elements larger than the median in the min-heap. We'll keep these heaps balanced so that the median is always either the root of the min-heap or the max-heap (or both).\n",
    "\n",
    "When we encounter a new element from the stream, we'll first add it to one of our heaps: the max-heap if the element is smaller than the median, or the min-heap if it's bigger. We can make the max-heap the default heap if they're equal or there are no elements.\n",
    "\n",
    "Then we re-balance if necessary by moving the root of the larger heap to the smaller one. It's only necessary if the a heap is larger than the other by more than 1 element.\n",
    "\n",
    "Finally, we can print out our median: it will just be the root of the larger heap, or the average of the two roots if they're of equal size.\n",
    "\n",
    "Since Python has really terrible support for heaps, we'll pretend we have some heap objects that have the standard interface:"
   ]
  },
  {
   "cell_type": "code",
   "execution_count": 1,
   "id": "c4156dbc",
   "metadata": {},
   "outputs": [],
   "source": [
    "def get_median(min_heap, max_heap):\n",
    "    if len(min_heap) > len(max_heap):\n",
    "        return min_heap.find_min()\n",
    "    elif len(min_heap) < len(max_heap):\n",
    "        return max_heap.find_max()\n",
    "    else:\n",
    "        min_root = min_heap.find_min()\n",
    "        max_root = max_heap.find_max()\n",
    "        return (min_root + max_root) / 2\n",
    "\n",
    "def add(num, min_heap, max_heap):\n",
    "    # If empty, then just add it to the max heap.\n",
    "    if len(min_heap) + len(max_heap) <= 1:\n",
    "        max_heap.insert(num)\n",
    "        return\n",
    "\n",
    "    median = get_median(min_heap, max_heap)\n",
    "    if num > median:\n",
    "        # add it to the min heap\n",
    "        min_heap.insert(num)\n",
    "    else:\n",
    "        max_heap.insert(num)\n",
    "\n",
    "def rebalance(min_heap, max_heap):\n",
    "    if len(min_heap) > len(max_heap) + 1:\n",
    "        root = min_heap.extract_min()\n",
    "        max_heap.insert(root)\n",
    "    elif len(max_heap) > len(min_heap) + 1:\n",
    "        root = max_heap.extract_max()\n",
    "        min_heap.insert(root)\n",
    "\n",
    "def print_median(min_heap, max_heap):\n",
    "    print(get_median(min_heap, max_heap))\n",
    "\n",
    "def running_median(stream):\n",
    "    min_heap = minheap()\n",
    "    max_heap = maxheap()\n",
    "    for num in stream:\n",
    "        add(num, min_heap, max_heap)\n",
    "        rebalance(min_heap, max_heap)\n",
    "        print_median(min_heap, max_heap)\n"
   ]
  },
  {
   "cell_type": "markdown",
   "id": "389c2173",
   "metadata": {},
   "source": [
    "This runs in O(N) space. In terms of time, each new element takes O(log N) time to manipulate the heaps, so this will run in O(N log N) time."
   ]
  }
 ],
 "metadata": {
  "kernelspec": {
   "display_name": "Python 3 (ipykernel)",
   "language": "python",
   "name": "python3"
  },
  "language_info": {
   "codemirror_mode": {
    "name": "ipython",
    "version": 3
   },
   "file_extension": ".py",
   "mimetype": "text/x-python",
   "name": "python",
   "nbconvert_exporter": "python",
   "pygments_lexer": "ipython3",
   "version": "3.8.10"
  }
 },
 "nbformat": 4,
 "nbformat_minor": 5
}
